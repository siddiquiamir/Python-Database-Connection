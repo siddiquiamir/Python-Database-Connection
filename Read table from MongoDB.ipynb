{
 "cells": [
  {
   "cell_type": "code",
   "execution_count": 1,
   "metadata": {},
   "outputs": [],
   "source": [
    "import pymongo\n",
    "import pandas as pd"
   ]
  },
  {
   "cell_type": "code",
   "execution_count": 2,
   "metadata": {},
   "outputs": [],
   "source": [
    "client = pymongo.MongoClient(\"mongodb://localhost:27017/\") "
   ]
  },
  {
   "cell_type": "code",
   "execution_count": 3,
   "metadata": {},
   "outputs": [],
   "source": [
    "# Database Name \n",
    "db = client[\"MachineLearning\"] "
   ]
  },
  {
   "cell_type": "code",
   "execution_count": 4,
   "metadata": {},
   "outputs": [
    {
     "name": "stdout",
     "output_type": "stream",
     "text": [
      "Database(MongoClient(host=['localhost:27017'], document_class=dict, tz_aware=False, connect=True), 'MachineLearning')\n"
     ]
    }
   ],
   "source": [
    "print(db)"
   ]
  },
  {
   "cell_type": "code",
   "execution_count": 5,
   "metadata": {},
   "outputs": [],
   "source": [
    "# Collection Name \n",
    "mycollection = db[\"Iris\"] "
   ]
  },
  {
   "cell_type": "code",
   "execution_count": 6,
   "metadata": {},
   "outputs": [
    {
     "name": "stdout",
     "output_type": "stream",
     "text": [
      "Collection(Database(MongoClient(host=['localhost:27017'], document_class=dict, tz_aware=False, connect=True), 'MachineLearning'), 'Iris')\n"
     ]
    }
   ],
   "source": [
    "print(mycollection)"
   ]
  },
  {
   "cell_type": "code",
   "execution_count": 7,
   "metadata": {},
   "outputs": [],
   "source": [
    "# Find one document or one row\n",
    "one_record = mycollection.find_one()"
   ]
  },
  {
   "cell_type": "code",
   "execution_count": 8,
   "metadata": {},
   "outputs": [
    {
     "name": "stdout",
     "output_type": "stream",
     "text": [
      "{'_id': ObjectId('6058671942e2bcabc480793d'), 'Sepal_Length': 5.1, 'Sepal_Width': 3.5, 'Petal_Length': 1.4, 'Petal_Width': 0.2, 'Class': 'Setosa'}\n"
     ]
    }
   ],
   "source": [
    "print(one_record)"
   ]
  },
  {
   "cell_type": "code",
   "execution_count": 9,
   "metadata": {},
   "outputs": [],
   "source": [
    "# Find all documents or rows\n",
    "all_records = mycollection.find()"
   ]
  },
  {
   "cell_type": "code",
   "execution_count": 10,
   "metadata": {},
   "outputs": [
    {
     "name": "stdout",
     "output_type": "stream",
     "text": [
      "<pymongo.cursor.Cursor object at 0x0000025D78B521F0>\n"
     ]
    }
   ],
   "source": [
    "print(all_records)"
   ]
  },
  {
   "cell_type": "code",
   "execution_count": 11,
   "metadata": {},
   "outputs": [
    {
     "name": "stdout",
     "output_type": "stream",
     "text": [
      "{'_id': ObjectId('6058671942e2bcabc480793d'), 'Sepal_Length': 5.1, 'Sepal_Width': 3.5, 'Petal_Length': 1.4, 'Petal_Width': 0.2, 'Class': 'Setosa'}\n",
      "{'_id': ObjectId('6058671942e2bcabc480793e'), 'Sepal_Length': 4.9, 'Sepal_Width': 3.0, 'Petal_Length': 1.4, 'Petal_Width': 0.2, 'Class': 'Setosa'}\n",
      "{'_id': ObjectId('6058671942e2bcabc480793f'), 'Sepal_Length': 4.7, 'Sepal_Width': 3.2, 'Petal_Length': 1.3, 'Petal_Width': 0.2, 'Class': 'Setosa'}\n",
      "{'_id': ObjectId('6058671942e2bcabc4807940'), 'Sepal_Length': 4.6, 'Sepal_Width': 3.1, 'Petal_Length': 1.5, 'Petal_Width': 0.2, 'Class': 'Setosa'}\n",
      "{'_id': ObjectId('6058671942e2bcabc4807941'), 'Sepal_Length': 5.0, 'Sepal_Width': 3.6, 'Petal_Length': 1.4, 'Petal_Width': 0.2, 'Class': 'Setosa'}\n",
      "{'_id': ObjectId('6058671942e2bcabc4807942'), 'Sepal_Length': 5.4, 'Sepal_Width': 3.9, 'Petal_Length': 1.7, 'Petal_Width': 0.4, 'Class': 'Setosa'}\n",
      "{'_id': ObjectId('6058671942e2bcabc4807943'), 'Sepal_Length': 4.6, 'Sepal_Width': 3.4, 'Petal_Length': 1.4, 'Petal_Width': 0.3, 'Class': 'Setosa'}\n",
      "{'_id': ObjectId('6058671942e2bcabc4807944'), 'Sepal_Length': 5.0, 'Sepal_Width': 3.4, 'Petal_Length': 1.5, 'Petal_Width': 0.2, 'Class': 'Setosa'}\n",
      "{'_id': ObjectId('6058671942e2bcabc4807945'), 'Sepal_Length': 4.4, 'Sepal_Width': 2.9, 'Petal_Length': 1.4, 'Petal_Width': 0.2, 'Class': 'Setosa'}\n",
      "{'_id': ObjectId('6058671942e2bcabc4807946'), 'Sepal_Length': 4.9, 'Sepal_Width': 3.1, 'Petal_Length': 1.5, 'Petal_Width': 0.1, 'Class': 'Setosa'}\n",
      "{'_id': ObjectId('6058671942e2bcabc4807947'), 'Sepal_Length': 5.4, 'Sepal_Width': 3.7, 'Petal_Length': 1.5, 'Petal_Width': 0.2, 'Class': 'Setosa'}\n",
      "{'_id': ObjectId('6058671942e2bcabc4807948'), 'Sepal_Length': 4.8, 'Sepal_Width': 3.4, 'Petal_Length': 1.6, 'Petal_Width': 0.2, 'Class': 'Setosa'}\n",
      "{'_id': ObjectId('6058671942e2bcabc4807949'), 'Sepal_Length': 4.8, 'Sepal_Width': 3.0, 'Petal_Length': 1.4, 'Petal_Width': 0.1, 'Class': 'Setosa'}\n",
      "{'_id': ObjectId('6058671942e2bcabc480794a'), 'Sepal_Length': 4.3, 'Sepal_Width': 3.0, 'Petal_Length': 1.1, 'Petal_Width': 0.1, 'Class': 'Setosa'}\n",
      "{'_id': ObjectId('6058671942e2bcabc480794b'), 'Sepal_Length': 5.8, 'Sepal_Width': 4.0, 'Petal_Length': 1.2, 'Petal_Width': 0.2, 'Class': 'Setosa'}\n",
      "{'_id': ObjectId('6058671942e2bcabc480794c'), 'Sepal_Length': 5.7, 'Sepal_Width': 4.4, 'Petal_Length': 1.5, 'Petal_Width': 0.4, 'Class': 'Setosa'}\n",
      "{'_id': ObjectId('6058671942e2bcabc480794d'), 'Sepal_Length': 5.4, 'Sepal_Width': 3.9, 'Petal_Length': 1.3, 'Petal_Width': 0.4, 'Class': 'Setosa'}\n",
      "{'_id': ObjectId('6058671942e2bcabc480794e'), 'Sepal_Length': 5.1, 'Sepal_Width': 3.5, 'Petal_Length': 1.4, 'Petal_Width': 0.3, 'Class': 'Setosa'}\n",
      "{'_id': ObjectId('6058671942e2bcabc480794f'), 'Sepal_Length': 5.7, 'Sepal_Width': 3.8, 'Petal_Length': 1.7, 'Petal_Width': 0.3, 'Class': 'Setosa'}\n",
      "{'_id': ObjectId('6058671942e2bcabc4807950'), 'Sepal_Length': 5.1, 'Sepal_Width': 3.8, 'Petal_Length': 1.5, 'Petal_Width': 0.3, 'Class': 'Setosa'}\n",
      "{'_id': ObjectId('6058671942e2bcabc4807951'), 'Sepal_Length': 5.4, 'Sepal_Width': 3.4, 'Petal_Length': 1.7, 'Petal_Width': 0.2, 'Class': 'Setosa'}\n",
      "{'_id': ObjectId('6058671942e2bcabc4807952'), 'Sepal_Length': 5.1, 'Sepal_Width': 3.7, 'Petal_Length': 1.5, 'Petal_Width': 0.4, 'Class': 'Setosa'}\n",
      "{'_id': ObjectId('6058671942e2bcabc4807953'), 'Sepal_Length': 4.6, 'Sepal_Width': 3.6, 'Petal_Length': 1.0, 'Petal_Width': 0.2, 'Class': 'Setosa'}\n",
      "{'_id': ObjectId('6058671942e2bcabc4807954'), 'Sepal_Length': 5.1, 'Sepal_Width': 3.3, 'Petal_Length': 1.7, 'Petal_Width': 0.5, 'Class': 'Setosa'}\n",
      "{'_id': ObjectId('6058671942e2bcabc4807955'), 'Sepal_Length': 4.8, 'Sepal_Width': 3.4, 'Petal_Length': 1.9, 'Petal_Width': 0.2, 'Class': 'Setosa'}\n",
      "{'_id': ObjectId('6058671942e2bcabc4807956'), 'Sepal_Length': 5.0, 'Sepal_Width': 3.0, 'Petal_Length': 1.6, 'Petal_Width': 0.2, 'Class': 'Setosa'}\n",
      "{'_id': ObjectId('6058671942e2bcabc4807957'), 'Sepal_Length': 5.0, 'Sepal_Width': 3.4, 'Petal_Length': 1.6, 'Petal_Width': 0.4, 'Class': 'Setosa'}\n",
      "{'_id': ObjectId('6058671942e2bcabc4807958'), 'Sepal_Length': 5.2, 'Sepal_Width': 3.5, 'Petal_Length': 1.5, 'Petal_Width': 0.2, 'Class': 'Setosa'}\n",
      "{'_id': ObjectId('6058671942e2bcabc4807959'), 'Sepal_Length': 5.2, 'Sepal_Width': 3.4, 'Petal_Length': 1.4, 'Petal_Width': 0.2, 'Class': 'Setosa'}\n",
      "{'_id': ObjectId('6058671942e2bcabc480795a'), 'Sepal_Length': 4.7, 'Sepal_Width': 3.2, 'Petal_Length': 1.6, 'Petal_Width': 0.2, 'Class': 'Setosa'}\n",
      "{'_id': ObjectId('6058671942e2bcabc480795b'), 'Sepal_Length': 4.8, 'Sepal_Width': 3.1, 'Petal_Length': 1.6, 'Petal_Width': 0.2, 'Class': 'Setosa'}\n",
      "{'_id': ObjectId('6058671942e2bcabc480795c'), 'Sepal_Length': 5.4, 'Sepal_Width': 3.4, 'Petal_Length': 1.5, 'Petal_Width': 0.4, 'Class': 'Setosa'}\n",
      "{'_id': ObjectId('6058671942e2bcabc480795d'), 'Sepal_Length': 5.2, 'Sepal_Width': 4.1, 'Petal_Length': 1.5, 'Petal_Width': 0.1, 'Class': 'Setosa'}\n",
      "{'_id': ObjectId('6058671942e2bcabc480795e'), 'Sepal_Length': 5.5, 'Sepal_Width': 4.2, 'Petal_Length': 1.4, 'Petal_Width': 0.2, 'Class': 'Setosa'}\n",
      "{'_id': ObjectId('6058671942e2bcabc480795f'), 'Sepal_Length': 4.9, 'Sepal_Width': 3.1, 'Petal_Length': 1.5, 'Petal_Width': 0.2, 'Class': 'Setosa'}\n",
      "{'_id': ObjectId('6058671942e2bcabc4807960'), 'Sepal_Length': 5.0, 'Sepal_Width': 3.2, 'Petal_Length': 1.2, 'Petal_Width': 0.2, 'Class': 'Setosa'}\n",
      "{'_id': ObjectId('6058671942e2bcabc4807961'), 'Sepal_Length': 5.5, 'Sepal_Width': 3.5, 'Petal_Length': 1.3, 'Petal_Width': 0.2, 'Class': 'Setosa'}\n",
      "{'_id': ObjectId('6058671942e2bcabc4807962'), 'Sepal_Length': 4.9, 'Sepal_Width': 3.6, 'Petal_Length': 1.4, 'Petal_Width': 0.1, 'Class': 'Setosa'}\n",
      "{'_id': ObjectId('6058671942e2bcabc4807963'), 'Sepal_Length': 4.4, 'Sepal_Width': 3.0, 'Petal_Length': 1.3, 'Petal_Width': 0.2, 'Class': 'Setosa'}\n",
      "{'_id': ObjectId('6058671942e2bcabc4807964'), 'Sepal_Length': 5.1, 'Sepal_Width': 3.4, 'Petal_Length': 1.5, 'Petal_Width': 0.2, 'Class': 'Setosa'}\n",
      "{'_id': ObjectId('6058671942e2bcabc4807965'), 'Sepal_Length': 5.0, 'Sepal_Width': 3.5, 'Petal_Length': 1.3, 'Petal_Width': 0.3, 'Class': 'Setosa'}\n",
      "{'_id': ObjectId('6058671942e2bcabc4807966'), 'Sepal_Length': 4.5, 'Sepal_Width': 2.3, 'Petal_Length': 1.3, 'Petal_Width': 0.3, 'Class': 'Setosa'}\n",
      "{'_id': ObjectId('6058671942e2bcabc4807967'), 'Sepal_Length': 4.4, 'Sepal_Width': 3.2, 'Petal_Length': 1.3, 'Petal_Width': 0.2, 'Class': 'Setosa'}\n",
      "{'_id': ObjectId('6058671942e2bcabc4807968'), 'Sepal_Length': 5.0, 'Sepal_Width': 3.5, 'Petal_Length': 1.6, 'Petal_Width': 0.6, 'Class': 'Setosa'}\n",
      "{'_id': ObjectId('6058671942e2bcabc4807969'), 'Sepal_Length': 5.1, 'Sepal_Width': 3.8, 'Petal_Length': 1.9, 'Petal_Width': 0.4, 'Class': 'Setosa'}\n",
      "{'_id': ObjectId('6058671942e2bcabc480796a'), 'Sepal_Length': 4.8, 'Sepal_Width': 3.0, 'Petal_Length': 1.4, 'Petal_Width': 0.3, 'Class': 'Setosa'}\n",
      "{'_id': ObjectId('6058671942e2bcabc480796b'), 'Sepal_Length': 5.1, 'Sepal_Width': 3.8, 'Petal_Length': 1.6, 'Petal_Width': 0.2, 'Class': 'Setosa'}\n",
      "{'_id': ObjectId('6058671942e2bcabc480796c'), 'Sepal_Length': 4.6, 'Sepal_Width': 3.2, 'Petal_Length': 1.4, 'Petal_Width': 0.2, 'Class': 'Setosa'}\n",
      "{'_id': ObjectId('6058671942e2bcabc480796d'), 'Sepal_Length': 5.3, 'Sepal_Width': 3.7, 'Petal_Length': 1.5, 'Petal_Width': 0.2, 'Class': 'Setosa'}\n",
      "{'_id': ObjectId('6058671942e2bcabc480796e'), 'Sepal_Length': 5.0, 'Sepal_Width': 3.3, 'Petal_Length': 1.4, 'Petal_Width': 0.2, 'Class': 'Setosa'}\n",
      "{'_id': ObjectId('6058671942e2bcabc480796f'), 'Sepal_Length': 7.0, 'Sepal_Width': 3.2, 'Petal_Length': 4.7, 'Petal_Width': 1.4, 'Class': 'Versicolor'}\n",
      "{'_id': ObjectId('6058671942e2bcabc4807970'), 'Sepal_Length': 6.4, 'Sepal_Width': 3.2, 'Petal_Length': 4.5, 'Petal_Width': 1.5, 'Class': 'Versicolor'}\n",
      "{'_id': ObjectId('6058671942e2bcabc4807971'), 'Sepal_Length': 6.9, 'Sepal_Width': 3.1, 'Petal_Length': 4.9, 'Petal_Width': 1.5, 'Class': 'Versicolor'}\n",
      "{'_id': ObjectId('6058671942e2bcabc4807972'), 'Sepal_Length': 5.5, 'Sepal_Width': 2.3, 'Petal_Length': 4.0, 'Petal_Width': 1.3, 'Class': 'Versicolor'}\n",
      "{'_id': ObjectId('6058671942e2bcabc4807973'), 'Sepal_Length': 6.5, 'Sepal_Width': 2.8, 'Petal_Length': 4.6, 'Petal_Width': 1.5, 'Class': 'Versicolor'}\n",
      "{'_id': ObjectId('6058671942e2bcabc4807974'), 'Sepal_Length': 5.7, 'Sepal_Width': 2.8, 'Petal_Length': 4.5, 'Petal_Width': 1.3, 'Class': 'Versicolor'}\n",
      "{'_id': ObjectId('6058671942e2bcabc4807975'), 'Sepal_Length': 6.3, 'Sepal_Width': 3.3, 'Petal_Length': 4.7, 'Petal_Width': 1.6, 'Class': 'Versicolor'}\n",
      "{'_id': ObjectId('6058671942e2bcabc4807976'), 'Sepal_Length': 4.9, 'Sepal_Width': 2.4, 'Petal_Length': 3.3, 'Petal_Width': 1.0, 'Class': 'Versicolor'}\n",
      "{'_id': ObjectId('6058671942e2bcabc4807977'), 'Sepal_Length': 6.6, 'Sepal_Width': 2.9, 'Petal_Length': 4.6, 'Petal_Width': 1.3, 'Class': 'Versicolor'}\n",
      "{'_id': ObjectId('6058671942e2bcabc4807978'), 'Sepal_Length': 5.2, 'Sepal_Width': 2.7, 'Petal_Length': 3.9, 'Petal_Width': 1.4, 'Class': 'Versicolor'}\n",
      "{'_id': ObjectId('6058671942e2bcabc4807979'), 'Sepal_Length': 5.0, 'Sepal_Width': 2.0, 'Petal_Length': 3.5, 'Petal_Width': 1.0, 'Class': 'Versicolor'}\n",
      "{'_id': ObjectId('6058671942e2bcabc480797a'), 'Sepal_Length': 5.9, 'Sepal_Width': 3.0, 'Petal_Length': 4.2, 'Petal_Width': 1.5, 'Class': 'Versicolor'}\n",
      "{'_id': ObjectId('6058671942e2bcabc480797b'), 'Sepal_Length': 6.0, 'Sepal_Width': 2.2, 'Petal_Length': 4.0, 'Petal_Width': 1.0, 'Class': 'Versicolor'}\n",
      "{'_id': ObjectId('6058671942e2bcabc480797c'), 'Sepal_Length': 6.1, 'Sepal_Width': 2.9, 'Petal_Length': 4.7, 'Petal_Width': 1.4, 'Class': 'Versicolor'}\n",
      "{'_id': ObjectId('6058671942e2bcabc480797d'), 'Sepal_Length': 5.6, 'Sepal_Width': 2.9, 'Petal_Length': 3.6, 'Petal_Width': 1.3, 'Class': 'Versicolor'}\n",
      "{'_id': ObjectId('6058671942e2bcabc480797e'), 'Sepal_Length': 6.7, 'Sepal_Width': 3.1, 'Petal_Length': 4.4, 'Petal_Width': 1.4, 'Class': 'Versicolor'}\n",
      "{'_id': ObjectId('6058671942e2bcabc480797f'), 'Sepal_Length': 5.6, 'Sepal_Width': 3.0, 'Petal_Length': 4.5, 'Petal_Width': 1.5, 'Class': 'Versicolor'}\n",
      "{'_id': ObjectId('6058671942e2bcabc4807980'), 'Sepal_Length': 5.8, 'Sepal_Width': 2.7, 'Petal_Length': 4.1, 'Petal_Width': 1.0, 'Class': 'Versicolor'}\n",
      "{'_id': ObjectId('6058671942e2bcabc4807981'), 'Sepal_Length': 6.2, 'Sepal_Width': 2.2, 'Petal_Length': 4.5, 'Petal_Width': 1.5, 'Class': 'Versicolor'}\n",
      "{'_id': ObjectId('6058671942e2bcabc4807982'), 'Sepal_Length': 5.6, 'Sepal_Width': 2.5, 'Petal_Length': 3.9, 'Petal_Width': 1.1, 'Class': 'Versicolor'}\n",
      "{'_id': ObjectId('6058671942e2bcabc4807983'), 'Sepal_Length': 5.9, 'Sepal_Width': 3.2, 'Petal_Length': 4.8, 'Petal_Width': 1.8, 'Class': 'Versicolor'}\n",
      "{'_id': ObjectId('6058671942e2bcabc4807984'), 'Sepal_Length': 6.1, 'Sepal_Width': 2.8, 'Petal_Length': 4.0, 'Petal_Width': 1.3, 'Class': 'Versicolor'}\n",
      "{'_id': ObjectId('6058671942e2bcabc4807985'), 'Sepal_Length': 6.3, 'Sepal_Width': 2.5, 'Petal_Length': 4.9, 'Petal_Width': 1.5, 'Class': 'Versicolor'}\n",
      "{'_id': ObjectId('6058671942e2bcabc4807986'), 'Sepal_Length': 6.1, 'Sepal_Width': 2.8, 'Petal_Length': 4.7, 'Petal_Width': 1.2, 'Class': 'Versicolor'}\n",
      "{'_id': ObjectId('6058671942e2bcabc4807987'), 'Sepal_Length': 6.4, 'Sepal_Width': 2.9, 'Petal_Length': 4.3, 'Petal_Width': 1.3, 'Class': 'Versicolor'}\n",
      "{'_id': ObjectId('6058671942e2bcabc4807988'), 'Sepal_Length': 6.6, 'Sepal_Width': 3.0, 'Petal_Length': 4.4, 'Petal_Width': 1.4, 'Class': 'Versicolor'}\n",
      "{'_id': ObjectId('6058671942e2bcabc4807989'), 'Sepal_Length': 6.8, 'Sepal_Width': 2.8, 'Petal_Length': 4.8, 'Petal_Width': 1.4, 'Class': 'Versicolor'}\n",
      "{'_id': ObjectId('6058671942e2bcabc480798a'), 'Sepal_Length': 6.7, 'Sepal_Width': 3.0, 'Petal_Length': 5.0, 'Petal_Width': 1.7, 'Class': 'Versicolor'}\n",
      "{'_id': ObjectId('6058671942e2bcabc480798b'), 'Sepal_Length': 6.0, 'Sepal_Width': 2.9, 'Petal_Length': 4.5, 'Petal_Width': 1.5, 'Class': 'Versicolor'}\n",
      "{'_id': ObjectId('6058671942e2bcabc480798c'), 'Sepal_Length': 5.7, 'Sepal_Width': 2.6, 'Petal_Length': 3.5, 'Petal_Width': 1.0, 'Class': 'Versicolor'}\n",
      "{'_id': ObjectId('6058671942e2bcabc480798d'), 'Sepal_Length': 5.5, 'Sepal_Width': 2.4, 'Petal_Length': 3.8, 'Petal_Width': 1.1, 'Class': 'Versicolor'}\n",
      "{'_id': ObjectId('6058671942e2bcabc480798e'), 'Sepal_Length': 5.5, 'Sepal_Width': 2.4, 'Petal_Length': 3.7, 'Petal_Width': 1.0, 'Class': 'Versicolor'}\n",
      "{'_id': ObjectId('6058671942e2bcabc480798f'), 'Sepal_Length': 5.8, 'Sepal_Width': 2.7, 'Petal_Length': 3.9, 'Petal_Width': 1.2, 'Class': 'Versicolor'}\n",
      "{'_id': ObjectId('6058671942e2bcabc4807990'), 'Sepal_Length': 6.0, 'Sepal_Width': 2.7, 'Petal_Length': 5.1, 'Petal_Width': 1.6, 'Class': 'Versicolor'}\n",
      "{'_id': ObjectId('6058671942e2bcabc4807991'), 'Sepal_Length': 5.4, 'Sepal_Width': 3.0, 'Petal_Length': 4.5, 'Petal_Width': 1.5, 'Class': 'Versicolor'}\n",
      "{'_id': ObjectId('6058671942e2bcabc4807992'), 'Sepal_Length': 6.0, 'Sepal_Width': 3.4, 'Petal_Length': 4.5, 'Petal_Width': 1.6, 'Class': 'Versicolor'}\n",
      "{'_id': ObjectId('6058671942e2bcabc4807993'), 'Sepal_Length': 6.7, 'Sepal_Width': 3.1, 'Petal_Length': 4.7, 'Petal_Width': 1.5, 'Class': 'Versicolor'}\n",
      "{'_id': ObjectId('6058671942e2bcabc4807994'), 'Sepal_Length': 6.3, 'Sepal_Width': 2.3, 'Petal_Length': 4.4, 'Petal_Width': 1.3, 'Class': 'Versicolor'}\n",
      "{'_id': ObjectId('6058671942e2bcabc4807995'), 'Sepal_Length': 5.6, 'Sepal_Width': 3.0, 'Petal_Length': 4.1, 'Petal_Width': 1.3, 'Class': 'Versicolor'}\n",
      "{'_id': ObjectId('6058671942e2bcabc4807996'), 'Sepal_Length': 5.5, 'Sepal_Width': 2.5, 'Petal_Length': 4.0, 'Petal_Width': 1.3, 'Class': 'Versicolor'}\n",
      "{'_id': ObjectId('6058671942e2bcabc4807997'), 'Sepal_Length': 5.5, 'Sepal_Width': 2.6, 'Petal_Length': 4.4, 'Petal_Width': 1.2, 'Class': 'Versicolor'}\n",
      "{'_id': ObjectId('6058671942e2bcabc4807998'), 'Sepal_Length': 6.1, 'Sepal_Width': 3.0, 'Petal_Length': 4.6, 'Petal_Width': 1.4, 'Class': 'Versicolor'}\n",
      "{'_id': ObjectId('6058671942e2bcabc4807999'), 'Sepal_Length': 5.8, 'Sepal_Width': 2.6, 'Petal_Length': 4.0, 'Petal_Width': 1.2, 'Class': 'Versicolor'}\n",
      "{'_id': ObjectId('6058671942e2bcabc480799a'), 'Sepal_Length': 5.0, 'Sepal_Width': 2.3, 'Petal_Length': 3.3, 'Petal_Width': 1.0, 'Class': 'Versicolor'}\n",
      "{'_id': ObjectId('6058671942e2bcabc480799b'), 'Sepal_Length': 5.6, 'Sepal_Width': 2.7, 'Petal_Length': 4.2, 'Petal_Width': 1.3, 'Class': 'Versicolor'}\n",
      "{'_id': ObjectId('6058671942e2bcabc480799c'), 'Sepal_Length': 5.7, 'Sepal_Width': 3.0, 'Petal_Length': 4.2, 'Petal_Width': 1.2, 'Class': 'Versicolor'}\n",
      "{'_id': ObjectId('6058671942e2bcabc480799d'), 'Sepal_Length': 5.7, 'Sepal_Width': 2.9, 'Petal_Length': 4.2, 'Petal_Width': 1.3, 'Class': 'Versicolor'}\n",
      "{'_id': ObjectId('6058671942e2bcabc480799e'), 'Sepal_Length': 6.2, 'Sepal_Width': 2.9, 'Petal_Length': 4.3, 'Petal_Width': 1.3, 'Class': 'Versicolor'}\n",
      "{'_id': ObjectId('6058671942e2bcabc480799f'), 'Sepal_Length': 5.1, 'Sepal_Width': 2.5, 'Petal_Length': 3.0, 'Petal_Width': 1.1, 'Class': 'Versicolor'}\n",
      "{'_id': ObjectId('6058671942e2bcabc48079a0'), 'Sepal_Length': 5.7, 'Sepal_Width': 2.8, 'Petal_Length': 4.1, 'Petal_Width': 1.3, 'Class': 'Versicolor'}\n",
      "{'_id': ObjectId('6058671942e2bcabc48079a1'), 'Sepal_Length': 6.3, 'Sepal_Width': 3.3, 'Petal_Length': 6.0, 'Petal_Width': 2.5, 'Class': 'Virginica'}\n",
      "{'_id': ObjectId('6058671942e2bcabc48079a2'), 'Sepal_Length': 5.8, 'Sepal_Width': 2.7, 'Petal_Length': 5.1, 'Petal_Width': 1.9, 'Class': 'Virginica'}\n",
      "{'_id': ObjectId('6058671942e2bcabc48079a3'), 'Sepal_Length': 7.1, 'Sepal_Width': 3.0, 'Petal_Length': 5.9, 'Petal_Width': 2.1, 'Class': 'Virginica'}\n",
      "{'_id': ObjectId('6058671942e2bcabc48079a4'), 'Sepal_Length': 6.3, 'Sepal_Width': 2.9, 'Petal_Length': 5.6, 'Petal_Width': 1.8, 'Class': 'Virginica'}\n",
      "{'_id': ObjectId('6058671942e2bcabc48079a5'), 'Sepal_Length': 6.5, 'Sepal_Width': 3.0, 'Petal_Length': 5.8, 'Petal_Width': 2.2, 'Class': 'Virginica'}\n",
      "{'_id': ObjectId('6058671942e2bcabc48079a6'), 'Sepal_Length': 7.6, 'Sepal_Width': 3.0, 'Petal_Length': 6.6, 'Petal_Width': 2.1, 'Class': 'Virginica'}\n",
      "{'_id': ObjectId('6058671942e2bcabc48079a7'), 'Sepal_Length': 4.9, 'Sepal_Width': 2.5, 'Petal_Length': 4.5, 'Petal_Width': 1.7, 'Class': 'Virginica'}\n",
      "{'_id': ObjectId('6058671942e2bcabc48079a8'), 'Sepal_Length': 7.3, 'Sepal_Width': 2.9, 'Petal_Length': 6.3, 'Petal_Width': 1.8, 'Class': 'Virginica'}\n",
      "{'_id': ObjectId('6058671942e2bcabc48079a9'), 'Sepal_Length': 6.7, 'Sepal_Width': 2.5, 'Petal_Length': 5.8, 'Petal_Width': 1.8, 'Class': 'Virginica'}\n",
      "{'_id': ObjectId('6058671942e2bcabc48079aa'), 'Sepal_Length': 7.2, 'Sepal_Width': 3.6, 'Petal_Length': 6.1, 'Petal_Width': 2.5, 'Class': 'Virginica'}\n",
      "{'_id': ObjectId('6058671942e2bcabc48079ab'), 'Sepal_Length': 6.5, 'Sepal_Width': 3.2, 'Petal_Length': 5.1, 'Petal_Width': 2.0, 'Class': 'Virginica'}\n",
      "{'_id': ObjectId('6058671942e2bcabc48079ac'), 'Sepal_Length': 6.4, 'Sepal_Width': 2.7, 'Petal_Length': 5.3, 'Petal_Width': 1.9, 'Class': 'Virginica'}\n",
      "{'_id': ObjectId('6058671942e2bcabc48079ad'), 'Sepal_Length': 6.8, 'Sepal_Width': 3.0, 'Petal_Length': 5.5, 'Petal_Width': 2.1, 'Class': 'Virginica'}\n",
      "{'_id': ObjectId('6058671942e2bcabc48079ae'), 'Sepal_Length': 5.7, 'Sepal_Width': 2.5, 'Petal_Length': 5.0, 'Petal_Width': 2.0, 'Class': 'Virginica'}\n",
      "{'_id': ObjectId('6058671942e2bcabc48079af'), 'Sepal_Length': 5.8, 'Sepal_Width': 2.8, 'Petal_Length': 5.1, 'Petal_Width': 2.4, 'Class': 'Virginica'}\n",
      "{'_id': ObjectId('6058671942e2bcabc48079b0'), 'Sepal_Length': 6.4, 'Sepal_Width': 3.2, 'Petal_Length': 5.3, 'Petal_Width': 2.3, 'Class': 'Virginica'}\n",
      "{'_id': ObjectId('6058671942e2bcabc48079b1'), 'Sepal_Length': 6.5, 'Sepal_Width': 3.0, 'Petal_Length': 5.5, 'Petal_Width': 1.8, 'Class': 'Virginica'}\n",
      "{'_id': ObjectId('6058671942e2bcabc48079b2'), 'Sepal_Length': 7.7, 'Sepal_Width': 3.8, 'Petal_Length': 6.7, 'Petal_Width': 2.2, 'Class': 'Virginica'}\n",
      "{'_id': ObjectId('6058671942e2bcabc48079b3'), 'Sepal_Length': 7.7, 'Sepal_Width': 2.6, 'Petal_Length': 6.9, 'Petal_Width': 2.3, 'Class': 'Virginica'}\n",
      "{'_id': ObjectId('6058671942e2bcabc48079b4'), 'Sepal_Length': 6.0, 'Sepal_Width': 2.2, 'Petal_Length': 5.0, 'Petal_Width': 1.5, 'Class': 'Virginica'}\n",
      "{'_id': ObjectId('6058671942e2bcabc48079b5'), 'Sepal_Length': 6.9, 'Sepal_Width': 3.2, 'Petal_Length': 5.7, 'Petal_Width': 2.3, 'Class': 'Virginica'}\n",
      "{'_id': ObjectId('6058671942e2bcabc48079b6'), 'Sepal_Length': 5.6, 'Sepal_Width': 2.8, 'Petal_Length': 4.9, 'Petal_Width': 2.0, 'Class': 'Virginica'}\n",
      "{'_id': ObjectId('6058671942e2bcabc48079b7'), 'Sepal_Length': 7.7, 'Sepal_Width': 2.8, 'Petal_Length': 6.7, 'Petal_Width': 2.0, 'Class': 'Virginica'}\n",
      "{'_id': ObjectId('6058671942e2bcabc48079b8'), 'Sepal_Length': 6.3, 'Sepal_Width': 2.7, 'Petal_Length': 4.9, 'Petal_Width': 1.8, 'Class': 'Virginica'}\n",
      "{'_id': ObjectId('6058671942e2bcabc48079b9'), 'Sepal_Length': 6.7, 'Sepal_Width': 3.3, 'Petal_Length': 5.7, 'Petal_Width': 2.1, 'Class': 'Virginica'}\n",
      "{'_id': ObjectId('6058671942e2bcabc48079ba'), 'Sepal_Length': 7.2, 'Sepal_Width': 3.2, 'Petal_Length': 6.0, 'Petal_Width': 1.8, 'Class': 'Virginica'}\n",
      "{'_id': ObjectId('6058671942e2bcabc48079bb'), 'Sepal_Length': 6.2, 'Sepal_Width': 2.8, 'Petal_Length': 4.8, 'Petal_Width': 1.8, 'Class': 'Virginica'}\n",
      "{'_id': ObjectId('6058671942e2bcabc48079bc'), 'Sepal_Length': 6.1, 'Sepal_Width': 3.0, 'Petal_Length': 4.9, 'Petal_Width': 1.8, 'Class': 'Virginica'}\n",
      "{'_id': ObjectId('6058671942e2bcabc48079bd'), 'Sepal_Length': 6.4, 'Sepal_Width': 2.8, 'Petal_Length': 5.6, 'Petal_Width': 2.1, 'Class': 'Virginica'}\n",
      "{'_id': ObjectId('6058671942e2bcabc48079be'), 'Sepal_Length': 7.2, 'Sepal_Width': 3.0, 'Petal_Length': 5.8, 'Petal_Width': 1.6, 'Class': 'Virginica'}\n",
      "{'_id': ObjectId('6058671942e2bcabc48079bf'), 'Sepal_Length': 7.4, 'Sepal_Width': 2.8, 'Petal_Length': 6.1, 'Petal_Width': 1.9, 'Class': 'Virginica'}\n",
      "{'_id': ObjectId('6058671942e2bcabc48079c0'), 'Sepal_Length': 7.9, 'Sepal_Width': 3.8, 'Petal_Length': 6.4, 'Petal_Width': 2.0, 'Class': 'Virginica'}\n",
      "{'_id': ObjectId('6058671942e2bcabc48079c1'), 'Sepal_Length': 6.4, 'Sepal_Width': 2.8, 'Petal_Length': 5.6, 'Petal_Width': 2.2, 'Class': 'Virginica'}\n",
      "{'_id': ObjectId('6058671942e2bcabc48079c2'), 'Sepal_Length': 6.3, 'Sepal_Width': 2.8, 'Petal_Length': 5.1, 'Petal_Width': 1.5, 'Class': 'Virginica'}\n",
      "{'_id': ObjectId('6058671942e2bcabc48079c3'), 'Sepal_Length': 6.1, 'Sepal_Width': 2.6, 'Petal_Length': 5.6, 'Petal_Width': 1.4, 'Class': 'Virginica'}\n",
      "{'_id': ObjectId('6058671942e2bcabc48079c4'), 'Sepal_Length': 7.7, 'Sepal_Width': 3.0, 'Petal_Length': 6.1, 'Petal_Width': 2.3, 'Class': 'Virginica'}\n",
      "{'_id': ObjectId('6058671942e2bcabc48079c5'), 'Sepal_Length': 6.3, 'Sepal_Width': 3.4, 'Petal_Length': 5.6, 'Petal_Width': 2.4, 'Class': 'Virginica'}\n",
      "{'_id': ObjectId('6058671942e2bcabc48079c6'), 'Sepal_Length': 6.4, 'Sepal_Width': 3.1, 'Petal_Length': 5.5, 'Petal_Width': 1.8, 'Class': 'Virginica'}\n",
      "{'_id': ObjectId('6058671942e2bcabc48079c7'), 'Sepal_Length': 6.0, 'Sepal_Width': 3.0, 'Petal_Length': 4.8, 'Petal_Width': 1.8, 'Class': 'Virginica'}\n",
      "{'_id': ObjectId('6058671942e2bcabc48079c8'), 'Sepal_Length': 6.9, 'Sepal_Width': 3.1, 'Petal_Length': 5.4, 'Petal_Width': 2.1, 'Class': 'Virginica'}\n",
      "{'_id': ObjectId('6058671942e2bcabc48079c9'), 'Sepal_Length': 6.7, 'Sepal_Width': 3.1, 'Petal_Length': 5.6, 'Petal_Width': 2.4, 'Class': 'Virginica'}\n",
      "{'_id': ObjectId('6058671942e2bcabc48079ca'), 'Sepal_Length': 6.9, 'Sepal_Width': 3.1, 'Petal_Length': 5.1, 'Petal_Width': 2.3, 'Class': 'Virginica'}\n",
      "{'_id': ObjectId('6058671942e2bcabc48079cb'), 'Sepal_Length': 5.8, 'Sepal_Width': 2.7, 'Petal_Length': 5.1, 'Petal_Width': 1.9, 'Class': 'Virginica'}\n",
      "{'_id': ObjectId('6058671942e2bcabc48079cc'), 'Sepal_Length': 6.8, 'Sepal_Width': 3.2, 'Petal_Length': 5.9, 'Petal_Width': 2.3, 'Class': 'Virginica'}\n",
      "{'_id': ObjectId('6058671942e2bcabc48079cd'), 'Sepal_Length': 6.7, 'Sepal_Width': 3.3, 'Petal_Length': 5.7, 'Petal_Width': 2.5, 'Class': 'Virginica'}\n",
      "{'_id': ObjectId('6058671942e2bcabc48079ce'), 'Sepal_Length': 6.7, 'Sepal_Width': 3.0, 'Petal_Length': 5.2, 'Petal_Width': 2.3, 'Class': 'Virginica'}\n",
      "{'_id': ObjectId('6058671942e2bcabc48079cf'), 'Sepal_Length': 6.3, 'Sepal_Width': 2.5, 'Petal_Length': 5.0, 'Petal_Width': 1.9, 'Class': 'Virginica'}\n",
      "{'_id': ObjectId('6058671942e2bcabc48079d0'), 'Sepal_Length': 6.5, 'Sepal_Width': 3.0, 'Petal_Length': 5.2, 'Petal_Width': 2.0, 'Class': 'Virginica'}\n",
      "{'_id': ObjectId('6058671942e2bcabc48079d1'), 'Sepal_Length': 6.2, 'Sepal_Width': 3.4, 'Petal_Length': 5.4, 'Petal_Width': 2.3, 'Class': 'Virginica'}\n",
      "{'_id': ObjectId('6058671942e2bcabc48079d2'), 'Sepal_Length': 5.9, 'Sepal_Width': 3.0, 'Petal_Length': 5.1, 'Petal_Width': 1.8, 'Class': 'Virginica'}\n"
     ]
    }
   ],
   "source": [
    "for row in all_records:\n",
    "    print(row)"
   ]
  },
  {
   "cell_type": "code",
   "execution_count": 12,
   "metadata": {},
   "outputs": [
    {
     "name": "stdout",
     "output_type": "stream",
     "text": [
      "Type of cursor: <class 'pymongo.cursor.Cursor'>\n"
     ]
    }
   ],
   "source": [
    "# Fetch all rows and save in a variable cursor\n",
    "cursor = mycollection.find() \n",
    "print('Type of cursor:',type(cursor)) "
   ]
  },
  {
   "cell_type": "code",
   "execution_count": 13,
   "metadata": {},
   "outputs": [],
   "source": [
    "# Convert cursor to list\n",
    "list_cursor = list(cursor) "
   ]
  },
  {
   "cell_type": "code",
   "execution_count": 14,
   "metadata": {},
   "outputs": [
    {
     "name": "stdout",
     "output_type": "stream",
     "text": [
      "[{'_id': ObjectId('6058671942e2bcabc480793d'), 'Sepal_Length': 5.1, 'Sepal_Width': 3.5, 'Petal_Length': 1.4, 'Petal_Width': 0.2, 'Class': 'Setosa'}, {'_id': ObjectId('6058671942e2bcabc480793e'), 'Sepal_Length': 4.9, 'Sepal_Width': 3.0, 'Petal_Length': 1.4, 'Petal_Width': 0.2, 'Class': 'Setosa'}, {'_id': ObjectId('6058671942e2bcabc480793f'), 'Sepal_Length': 4.7, 'Sepal_Width': 3.2, 'Petal_Length': 1.3, 'Petal_Width': 0.2, 'Class': 'Setosa'}, {'_id': ObjectId('6058671942e2bcabc4807940'), 'Sepal_Length': 4.6, 'Sepal_Width': 3.1, 'Petal_Length': 1.5, 'Petal_Width': 0.2, 'Class': 'Setosa'}, {'_id': ObjectId('6058671942e2bcabc4807941'), 'Sepal_Length': 5.0, 'Sepal_Width': 3.6, 'Petal_Length': 1.4, 'Petal_Width': 0.2, 'Class': 'Setosa'}, {'_id': ObjectId('6058671942e2bcabc4807942'), 'Sepal_Length': 5.4, 'Sepal_Width': 3.9, 'Petal_Length': 1.7, 'Petal_Width': 0.4, 'Class': 'Setosa'}, {'_id': ObjectId('6058671942e2bcabc4807943'), 'Sepal_Length': 4.6, 'Sepal_Width': 3.4, 'Petal_Length': 1.4, 'Petal_Width': 0.3, 'Class': 'Setosa'}, {'_id': ObjectId('6058671942e2bcabc4807944'), 'Sepal_Length': 5.0, 'Sepal_Width': 3.4, 'Petal_Length': 1.5, 'Petal_Width': 0.2, 'Class': 'Setosa'}, {'_id': ObjectId('6058671942e2bcabc4807945'), 'Sepal_Length': 4.4, 'Sepal_Width': 2.9, 'Petal_Length': 1.4, 'Petal_Width': 0.2, 'Class': 'Setosa'}, {'_id': ObjectId('6058671942e2bcabc4807946'), 'Sepal_Length': 4.9, 'Sepal_Width': 3.1, 'Petal_Length': 1.5, 'Petal_Width': 0.1, 'Class': 'Setosa'}, {'_id': ObjectId('6058671942e2bcabc4807947'), 'Sepal_Length': 5.4, 'Sepal_Width': 3.7, 'Petal_Length': 1.5, 'Petal_Width': 0.2, 'Class': 'Setosa'}, {'_id': ObjectId('6058671942e2bcabc4807948'), 'Sepal_Length': 4.8, 'Sepal_Width': 3.4, 'Petal_Length': 1.6, 'Petal_Width': 0.2, 'Class': 'Setosa'}, {'_id': ObjectId('6058671942e2bcabc4807949'), 'Sepal_Length': 4.8, 'Sepal_Width': 3.0, 'Petal_Length': 1.4, 'Petal_Width': 0.1, 'Class': 'Setosa'}, {'_id': ObjectId('6058671942e2bcabc480794a'), 'Sepal_Length': 4.3, 'Sepal_Width': 3.0, 'Petal_Length': 1.1, 'Petal_Width': 0.1, 'Class': 'Setosa'}, {'_id': ObjectId('6058671942e2bcabc480794b'), 'Sepal_Length': 5.8, 'Sepal_Width': 4.0, 'Petal_Length': 1.2, 'Petal_Width': 0.2, 'Class': 'Setosa'}, {'_id': ObjectId('6058671942e2bcabc480794c'), 'Sepal_Length': 5.7, 'Sepal_Width': 4.4, 'Petal_Length': 1.5, 'Petal_Width': 0.4, 'Class': 'Setosa'}, {'_id': ObjectId('6058671942e2bcabc480794d'), 'Sepal_Length': 5.4, 'Sepal_Width': 3.9, 'Petal_Length': 1.3, 'Petal_Width': 0.4, 'Class': 'Setosa'}, {'_id': ObjectId('6058671942e2bcabc480794e'), 'Sepal_Length': 5.1, 'Sepal_Width': 3.5, 'Petal_Length': 1.4, 'Petal_Width': 0.3, 'Class': 'Setosa'}, {'_id': ObjectId('6058671942e2bcabc480794f'), 'Sepal_Length': 5.7, 'Sepal_Width': 3.8, 'Petal_Length': 1.7, 'Petal_Width': 0.3, 'Class': 'Setosa'}, {'_id': ObjectId('6058671942e2bcabc4807950'), 'Sepal_Length': 5.1, 'Sepal_Width': 3.8, 'Petal_Length': 1.5, 'Petal_Width': 0.3, 'Class': 'Setosa'}, {'_id': ObjectId('6058671942e2bcabc4807951'), 'Sepal_Length': 5.4, 'Sepal_Width': 3.4, 'Petal_Length': 1.7, 'Petal_Width': 0.2, 'Class': 'Setosa'}, {'_id': ObjectId('6058671942e2bcabc4807952'), 'Sepal_Length': 5.1, 'Sepal_Width': 3.7, 'Petal_Length': 1.5, 'Petal_Width': 0.4, 'Class': 'Setosa'}, {'_id': ObjectId('6058671942e2bcabc4807953'), 'Sepal_Length': 4.6, 'Sepal_Width': 3.6, 'Petal_Length': 1.0, 'Petal_Width': 0.2, 'Class': 'Setosa'}, {'_id': ObjectId('6058671942e2bcabc4807954'), 'Sepal_Length': 5.1, 'Sepal_Width': 3.3, 'Petal_Length': 1.7, 'Petal_Width': 0.5, 'Class': 'Setosa'}, {'_id': ObjectId('6058671942e2bcabc4807955'), 'Sepal_Length': 4.8, 'Sepal_Width': 3.4, 'Petal_Length': 1.9, 'Petal_Width': 0.2, 'Class': 'Setosa'}, {'_id': ObjectId('6058671942e2bcabc4807956'), 'Sepal_Length': 5.0, 'Sepal_Width': 3.0, 'Petal_Length': 1.6, 'Petal_Width': 0.2, 'Class': 'Setosa'}, {'_id': ObjectId('6058671942e2bcabc4807957'), 'Sepal_Length': 5.0, 'Sepal_Width': 3.4, 'Petal_Length': 1.6, 'Petal_Width': 0.4, 'Class': 'Setosa'}, {'_id': ObjectId('6058671942e2bcabc4807958'), 'Sepal_Length': 5.2, 'Sepal_Width': 3.5, 'Petal_Length': 1.5, 'Petal_Width': 0.2, 'Class': 'Setosa'}, {'_id': ObjectId('6058671942e2bcabc4807959'), 'Sepal_Length': 5.2, 'Sepal_Width': 3.4, 'Petal_Length': 1.4, 'Petal_Width': 0.2, 'Class': 'Setosa'}, {'_id': ObjectId('6058671942e2bcabc480795a'), 'Sepal_Length': 4.7, 'Sepal_Width': 3.2, 'Petal_Length': 1.6, 'Petal_Width': 0.2, 'Class': 'Setosa'}, {'_id': ObjectId('6058671942e2bcabc480795b'), 'Sepal_Length': 4.8, 'Sepal_Width': 3.1, 'Petal_Length': 1.6, 'Petal_Width': 0.2, 'Class': 'Setosa'}, {'_id': ObjectId('6058671942e2bcabc480795c'), 'Sepal_Length': 5.4, 'Sepal_Width': 3.4, 'Petal_Length': 1.5, 'Petal_Width': 0.4, 'Class': 'Setosa'}, {'_id': ObjectId('6058671942e2bcabc480795d'), 'Sepal_Length': 5.2, 'Sepal_Width': 4.1, 'Petal_Length': 1.5, 'Petal_Width': 0.1, 'Class': 'Setosa'}, {'_id': ObjectId('6058671942e2bcabc480795e'), 'Sepal_Length': 5.5, 'Sepal_Width': 4.2, 'Petal_Length': 1.4, 'Petal_Width': 0.2, 'Class': 'Setosa'}, {'_id': ObjectId('6058671942e2bcabc480795f'), 'Sepal_Length': 4.9, 'Sepal_Width': 3.1, 'Petal_Length': 1.5, 'Petal_Width': 0.2, 'Class': 'Setosa'}, {'_id': ObjectId('6058671942e2bcabc4807960'), 'Sepal_Length': 5.0, 'Sepal_Width': 3.2, 'Petal_Length': 1.2, 'Petal_Width': 0.2, 'Class': 'Setosa'}, {'_id': ObjectId('6058671942e2bcabc4807961'), 'Sepal_Length': 5.5, 'Sepal_Width': 3.5, 'Petal_Length': 1.3, 'Petal_Width': 0.2, 'Class': 'Setosa'}, {'_id': ObjectId('6058671942e2bcabc4807962'), 'Sepal_Length': 4.9, 'Sepal_Width': 3.6, 'Petal_Length': 1.4, 'Petal_Width': 0.1, 'Class': 'Setosa'}, {'_id': ObjectId('6058671942e2bcabc4807963'), 'Sepal_Length': 4.4, 'Sepal_Width': 3.0, 'Petal_Length': 1.3, 'Petal_Width': 0.2, 'Class': 'Setosa'}, {'_id': ObjectId('6058671942e2bcabc4807964'), 'Sepal_Length': 5.1, 'Sepal_Width': 3.4, 'Petal_Length': 1.5, 'Petal_Width': 0.2, 'Class': 'Setosa'}, {'_id': ObjectId('6058671942e2bcabc4807965'), 'Sepal_Length': 5.0, 'Sepal_Width': 3.5, 'Petal_Length': 1.3, 'Petal_Width': 0.3, 'Class': 'Setosa'}, {'_id': ObjectId('6058671942e2bcabc4807966'), 'Sepal_Length': 4.5, 'Sepal_Width': 2.3, 'Petal_Length': 1.3, 'Petal_Width': 0.3, 'Class': 'Setosa'}, {'_id': ObjectId('6058671942e2bcabc4807967'), 'Sepal_Length': 4.4, 'Sepal_Width': 3.2, 'Petal_Length': 1.3, 'Petal_Width': 0.2, 'Class': 'Setosa'}, {'_id': ObjectId('6058671942e2bcabc4807968'), 'Sepal_Length': 5.0, 'Sepal_Width': 3.5, 'Petal_Length': 1.6, 'Petal_Width': 0.6, 'Class': 'Setosa'}, {'_id': ObjectId('6058671942e2bcabc4807969'), 'Sepal_Length': 5.1, 'Sepal_Width': 3.8, 'Petal_Length': 1.9, 'Petal_Width': 0.4, 'Class': 'Setosa'}, {'_id': ObjectId('6058671942e2bcabc480796a'), 'Sepal_Length': 4.8, 'Sepal_Width': 3.0, 'Petal_Length': 1.4, 'Petal_Width': 0.3, 'Class': 'Setosa'}, {'_id': ObjectId('6058671942e2bcabc480796b'), 'Sepal_Length': 5.1, 'Sepal_Width': 3.8, 'Petal_Length': 1.6, 'Petal_Width': 0.2, 'Class': 'Setosa'}, {'_id': ObjectId('6058671942e2bcabc480796c'), 'Sepal_Length': 4.6, 'Sepal_Width': 3.2, 'Petal_Length': 1.4, 'Petal_Width': 0.2, 'Class': 'Setosa'}, {'_id': ObjectId('6058671942e2bcabc480796d'), 'Sepal_Length': 5.3, 'Sepal_Width': 3.7, 'Petal_Length': 1.5, 'Petal_Width': 0.2, 'Class': 'Setosa'}, {'_id': ObjectId('6058671942e2bcabc480796e'), 'Sepal_Length': 5.0, 'Sepal_Width': 3.3, 'Petal_Length': 1.4, 'Petal_Width': 0.2, 'Class': 'Setosa'}, {'_id': ObjectId('6058671942e2bcabc480796f'), 'Sepal_Length': 7.0, 'Sepal_Width': 3.2, 'Petal_Length': 4.7, 'Petal_Width': 1.4, 'Class': 'Versicolor'}, {'_id': ObjectId('6058671942e2bcabc4807970'), 'Sepal_Length': 6.4, 'Sepal_Width': 3.2, 'Petal_Length': 4.5, 'Petal_Width': 1.5, 'Class': 'Versicolor'}, {'_id': ObjectId('6058671942e2bcabc4807971'), 'Sepal_Length': 6.9, 'Sepal_Width': 3.1, 'Petal_Length': 4.9, 'Petal_Width': 1.5, 'Class': 'Versicolor'}, {'_id': ObjectId('6058671942e2bcabc4807972'), 'Sepal_Length': 5.5, 'Sepal_Width': 2.3, 'Petal_Length': 4.0, 'Petal_Width': 1.3, 'Class': 'Versicolor'}, {'_id': ObjectId('6058671942e2bcabc4807973'), 'Sepal_Length': 6.5, 'Sepal_Width': 2.8, 'Petal_Length': 4.6, 'Petal_Width': 1.5, 'Class': 'Versicolor'}, {'_id': ObjectId('6058671942e2bcabc4807974'), 'Sepal_Length': 5.7, 'Sepal_Width': 2.8, 'Petal_Length': 4.5, 'Petal_Width': 1.3, 'Class': 'Versicolor'}, {'_id': ObjectId('6058671942e2bcabc4807975'), 'Sepal_Length': 6.3, 'Sepal_Width': 3.3, 'Petal_Length': 4.7, 'Petal_Width': 1.6, 'Class': 'Versicolor'}, {'_id': ObjectId('6058671942e2bcabc4807976'), 'Sepal_Length': 4.9, 'Sepal_Width': 2.4, 'Petal_Length': 3.3, 'Petal_Width': 1.0, 'Class': 'Versicolor'}, {'_id': ObjectId('6058671942e2bcabc4807977'), 'Sepal_Length': 6.6, 'Sepal_Width': 2.9, 'Petal_Length': 4.6, 'Petal_Width': 1.3, 'Class': 'Versicolor'}, {'_id': ObjectId('6058671942e2bcabc4807978'), 'Sepal_Length': 5.2, 'Sepal_Width': 2.7, 'Petal_Length': 3.9, 'Petal_Width': 1.4, 'Class': 'Versicolor'}, {'_id': ObjectId('6058671942e2bcabc4807979'), 'Sepal_Length': 5.0, 'Sepal_Width': 2.0, 'Petal_Length': 3.5, 'Petal_Width': 1.0, 'Class': 'Versicolor'}, {'_id': ObjectId('6058671942e2bcabc480797a'), 'Sepal_Length': 5.9, 'Sepal_Width': 3.0, 'Petal_Length': 4.2, 'Petal_Width': 1.5, 'Class': 'Versicolor'}, {'_id': ObjectId('6058671942e2bcabc480797b'), 'Sepal_Length': 6.0, 'Sepal_Width': 2.2, 'Petal_Length': 4.0, 'Petal_Width': 1.0, 'Class': 'Versicolor'}, {'_id': ObjectId('6058671942e2bcabc480797c'), 'Sepal_Length': 6.1, 'Sepal_Width': 2.9, 'Petal_Length': 4.7, 'Petal_Width': 1.4, 'Class': 'Versicolor'}, {'_id': ObjectId('6058671942e2bcabc480797d'), 'Sepal_Length': 5.6, 'Sepal_Width': 2.9, 'Petal_Length': 3.6, 'Petal_Width': 1.3, 'Class': 'Versicolor'}, {'_id': ObjectId('6058671942e2bcabc480797e'), 'Sepal_Length': 6.7, 'Sepal_Width': 3.1, 'Petal_Length': 4.4, 'Petal_Width': 1.4, 'Class': 'Versicolor'}, {'_id': ObjectId('6058671942e2bcabc480797f'), 'Sepal_Length': 5.6, 'Sepal_Width': 3.0, 'Petal_Length': 4.5, 'Petal_Width': 1.5, 'Class': 'Versicolor'}, {'_id': ObjectId('6058671942e2bcabc4807980'), 'Sepal_Length': 5.8, 'Sepal_Width': 2.7, 'Petal_Length': 4.1, 'Petal_Width': 1.0, 'Class': 'Versicolor'}, {'_id': ObjectId('6058671942e2bcabc4807981'), 'Sepal_Length': 6.2, 'Sepal_Width': 2.2, 'Petal_Length': 4.5, 'Petal_Width': 1.5, 'Class': 'Versicolor'}, {'_id': ObjectId('6058671942e2bcabc4807982'), 'Sepal_Length': 5.6, 'Sepal_Width': 2.5, 'Petal_Length': 3.9, 'Petal_Width': 1.1, 'Class': 'Versicolor'}, {'_id': ObjectId('6058671942e2bcabc4807983'), 'Sepal_Length': 5.9, 'Sepal_Width': 3.2, 'Petal_Length': 4.8, 'Petal_Width': 1.8, 'Class': 'Versicolor'}, {'_id': ObjectId('6058671942e2bcabc4807984'), 'Sepal_Length': 6.1, 'Sepal_Width': 2.8, 'Petal_Length': 4.0, 'Petal_Width': 1.3, 'Class': 'Versicolor'}, {'_id': ObjectId('6058671942e2bcabc4807985'), 'Sepal_Length': 6.3, 'Sepal_Width': 2.5, 'Petal_Length': 4.9, 'Petal_Width': 1.5, 'Class': 'Versicolor'}, {'_id': ObjectId('6058671942e2bcabc4807986'), 'Sepal_Length': 6.1, 'Sepal_Width': 2.8, 'Petal_Length': 4.7, 'Petal_Width': 1.2, 'Class': 'Versicolor'}, {'_id': ObjectId('6058671942e2bcabc4807987'), 'Sepal_Length': 6.4, 'Sepal_Width': 2.9, 'Petal_Length': 4.3, 'Petal_Width': 1.3, 'Class': 'Versicolor'}, {'_id': ObjectId('6058671942e2bcabc4807988'), 'Sepal_Length': 6.6, 'Sepal_Width': 3.0, 'Petal_Length': 4.4, 'Petal_Width': 1.4, 'Class': 'Versicolor'}, {'_id': ObjectId('6058671942e2bcabc4807989'), 'Sepal_Length': 6.8, 'Sepal_Width': 2.8, 'Petal_Length': 4.8, 'Petal_Width': 1.4, 'Class': 'Versicolor'}, {'_id': ObjectId('6058671942e2bcabc480798a'), 'Sepal_Length': 6.7, 'Sepal_Width': 3.0, 'Petal_Length': 5.0, 'Petal_Width': 1.7, 'Class': 'Versicolor'}, {'_id': ObjectId('6058671942e2bcabc480798b'), 'Sepal_Length': 6.0, 'Sepal_Width': 2.9, 'Petal_Length': 4.5, 'Petal_Width': 1.5, 'Class': 'Versicolor'}, {'_id': ObjectId('6058671942e2bcabc480798c'), 'Sepal_Length': 5.7, 'Sepal_Width': 2.6, 'Petal_Length': 3.5, 'Petal_Width': 1.0, 'Class': 'Versicolor'}, {'_id': ObjectId('6058671942e2bcabc480798d'), 'Sepal_Length': 5.5, 'Sepal_Width': 2.4, 'Petal_Length': 3.8, 'Petal_Width': 1.1, 'Class': 'Versicolor'}, {'_id': ObjectId('6058671942e2bcabc480798e'), 'Sepal_Length': 5.5, 'Sepal_Width': 2.4, 'Petal_Length': 3.7, 'Petal_Width': 1.0, 'Class': 'Versicolor'}, {'_id': ObjectId('6058671942e2bcabc480798f'), 'Sepal_Length': 5.8, 'Sepal_Width': 2.7, 'Petal_Length': 3.9, 'Petal_Width': 1.2, 'Class': 'Versicolor'}, {'_id': ObjectId('6058671942e2bcabc4807990'), 'Sepal_Length': 6.0, 'Sepal_Width': 2.7, 'Petal_Length': 5.1, 'Petal_Width': 1.6, 'Class': 'Versicolor'}, {'_id': ObjectId('6058671942e2bcabc4807991'), 'Sepal_Length': 5.4, 'Sepal_Width': 3.0, 'Petal_Length': 4.5, 'Petal_Width': 1.5, 'Class': 'Versicolor'}, {'_id': ObjectId('6058671942e2bcabc4807992'), 'Sepal_Length': 6.0, 'Sepal_Width': 3.4, 'Petal_Length': 4.5, 'Petal_Width': 1.6, 'Class': 'Versicolor'}, {'_id': ObjectId('6058671942e2bcabc4807993'), 'Sepal_Length': 6.7, 'Sepal_Width': 3.1, 'Petal_Length': 4.7, 'Petal_Width': 1.5, 'Class': 'Versicolor'}, {'_id': ObjectId('6058671942e2bcabc4807994'), 'Sepal_Length': 6.3, 'Sepal_Width': 2.3, 'Petal_Length': 4.4, 'Petal_Width': 1.3, 'Class': 'Versicolor'}, {'_id': ObjectId('6058671942e2bcabc4807995'), 'Sepal_Length': 5.6, 'Sepal_Width': 3.0, 'Petal_Length': 4.1, 'Petal_Width': 1.3, 'Class': 'Versicolor'}, {'_id': ObjectId('6058671942e2bcabc4807996'), 'Sepal_Length': 5.5, 'Sepal_Width': 2.5, 'Petal_Length': 4.0, 'Petal_Width': 1.3, 'Class': 'Versicolor'}, {'_id': ObjectId('6058671942e2bcabc4807997'), 'Sepal_Length': 5.5, 'Sepal_Width': 2.6, 'Petal_Length': 4.4, 'Petal_Width': 1.2, 'Class': 'Versicolor'}, {'_id': ObjectId('6058671942e2bcabc4807998'), 'Sepal_Length': 6.1, 'Sepal_Width': 3.0, 'Petal_Length': 4.6, 'Petal_Width': 1.4, 'Class': 'Versicolor'}, {'_id': ObjectId('6058671942e2bcabc4807999'), 'Sepal_Length': 5.8, 'Sepal_Width': 2.6, 'Petal_Length': 4.0, 'Petal_Width': 1.2, 'Class': 'Versicolor'}, {'_id': ObjectId('6058671942e2bcabc480799a'), 'Sepal_Length': 5.0, 'Sepal_Width': 2.3, 'Petal_Length': 3.3, 'Petal_Width': 1.0, 'Class': 'Versicolor'}, {'_id': ObjectId('6058671942e2bcabc480799b'), 'Sepal_Length': 5.6, 'Sepal_Width': 2.7, 'Petal_Length': 4.2, 'Petal_Width': 1.3, 'Class': 'Versicolor'}, {'_id': ObjectId('6058671942e2bcabc480799c'), 'Sepal_Length': 5.7, 'Sepal_Width': 3.0, 'Petal_Length': 4.2, 'Petal_Width': 1.2, 'Class': 'Versicolor'}, {'_id': ObjectId('6058671942e2bcabc480799d'), 'Sepal_Length': 5.7, 'Sepal_Width': 2.9, 'Petal_Length': 4.2, 'Petal_Width': 1.3, 'Class': 'Versicolor'}, {'_id': ObjectId('6058671942e2bcabc480799e'), 'Sepal_Length': 6.2, 'Sepal_Width': 2.9, 'Petal_Length': 4.3, 'Petal_Width': 1.3, 'Class': 'Versicolor'}, {'_id': ObjectId('6058671942e2bcabc480799f'), 'Sepal_Length': 5.1, 'Sepal_Width': 2.5, 'Petal_Length': 3.0, 'Petal_Width': 1.1, 'Class': 'Versicolor'}, {'_id': ObjectId('6058671942e2bcabc48079a0'), 'Sepal_Length': 5.7, 'Sepal_Width': 2.8, 'Petal_Length': 4.1, 'Petal_Width': 1.3, 'Class': 'Versicolor'}, {'_id': ObjectId('6058671942e2bcabc48079a1'), 'Sepal_Length': 6.3, 'Sepal_Width': 3.3, 'Petal_Length': 6.0, 'Petal_Width': 2.5, 'Class': 'Virginica'}, {'_id': ObjectId('6058671942e2bcabc48079a2'), 'Sepal_Length': 5.8, 'Sepal_Width': 2.7, 'Petal_Length': 5.1, 'Petal_Width': 1.9, 'Class': 'Virginica'}, {'_id': ObjectId('6058671942e2bcabc48079a3'), 'Sepal_Length': 7.1, 'Sepal_Width': 3.0, 'Petal_Length': 5.9, 'Petal_Width': 2.1, 'Class': 'Virginica'}, {'_id': ObjectId('6058671942e2bcabc48079a4'), 'Sepal_Length': 6.3, 'Sepal_Width': 2.9, 'Petal_Length': 5.6, 'Petal_Width': 1.8, 'Class': 'Virginica'}, {'_id': ObjectId('6058671942e2bcabc48079a5'), 'Sepal_Length': 6.5, 'Sepal_Width': 3.0, 'Petal_Length': 5.8, 'Petal_Width': 2.2, 'Class': 'Virginica'}, {'_id': ObjectId('6058671942e2bcabc48079a6'), 'Sepal_Length': 7.6, 'Sepal_Width': 3.0, 'Petal_Length': 6.6, 'Petal_Width': 2.1, 'Class': 'Virginica'}, {'_id': ObjectId('6058671942e2bcabc48079a7'), 'Sepal_Length': 4.9, 'Sepal_Width': 2.5, 'Petal_Length': 4.5, 'Petal_Width': 1.7, 'Class': 'Virginica'}, {'_id': ObjectId('6058671942e2bcabc48079a8'), 'Sepal_Length': 7.3, 'Sepal_Width': 2.9, 'Petal_Length': 6.3, 'Petal_Width': 1.8, 'Class': 'Virginica'}, {'_id': ObjectId('6058671942e2bcabc48079a9'), 'Sepal_Length': 6.7, 'Sepal_Width': 2.5, 'Petal_Length': 5.8, 'Petal_Width': 1.8, 'Class': 'Virginica'}, {'_id': ObjectId('6058671942e2bcabc48079aa'), 'Sepal_Length': 7.2, 'Sepal_Width': 3.6, 'Petal_Length': 6.1, 'Petal_Width': 2.5, 'Class': 'Virginica'}, {'_id': ObjectId('6058671942e2bcabc48079ab'), 'Sepal_Length': 6.5, 'Sepal_Width': 3.2, 'Petal_Length': 5.1, 'Petal_Width': 2.0, 'Class': 'Virginica'}, {'_id': ObjectId('6058671942e2bcabc48079ac'), 'Sepal_Length': 6.4, 'Sepal_Width': 2.7, 'Petal_Length': 5.3, 'Petal_Width': 1.9, 'Class': 'Virginica'}, {'_id': ObjectId('6058671942e2bcabc48079ad'), 'Sepal_Length': 6.8, 'Sepal_Width': 3.0, 'Petal_Length': 5.5, 'Petal_Width': 2.1, 'Class': 'Virginica'}, {'_id': ObjectId('6058671942e2bcabc48079ae'), 'Sepal_Length': 5.7, 'Sepal_Width': 2.5, 'Petal_Length': 5.0, 'Petal_Width': 2.0, 'Class': 'Virginica'}, {'_id': ObjectId('6058671942e2bcabc48079af'), 'Sepal_Length': 5.8, 'Sepal_Width': 2.8, 'Petal_Length': 5.1, 'Petal_Width': 2.4, 'Class': 'Virginica'}, {'_id': ObjectId('6058671942e2bcabc48079b0'), 'Sepal_Length': 6.4, 'Sepal_Width': 3.2, 'Petal_Length': 5.3, 'Petal_Width': 2.3, 'Class': 'Virginica'}, {'_id': ObjectId('6058671942e2bcabc48079b1'), 'Sepal_Length': 6.5, 'Sepal_Width': 3.0, 'Petal_Length': 5.5, 'Petal_Width': 1.8, 'Class': 'Virginica'}, {'_id': ObjectId('6058671942e2bcabc48079b2'), 'Sepal_Length': 7.7, 'Sepal_Width': 3.8, 'Petal_Length': 6.7, 'Petal_Width': 2.2, 'Class': 'Virginica'}, {'_id': ObjectId('6058671942e2bcabc48079b3'), 'Sepal_Length': 7.7, 'Sepal_Width': 2.6, 'Petal_Length': 6.9, 'Petal_Width': 2.3, 'Class': 'Virginica'}, {'_id': ObjectId('6058671942e2bcabc48079b4'), 'Sepal_Length': 6.0, 'Sepal_Width': 2.2, 'Petal_Length': 5.0, 'Petal_Width': 1.5, 'Class': 'Virginica'}, {'_id': ObjectId('6058671942e2bcabc48079b5'), 'Sepal_Length': 6.9, 'Sepal_Width': 3.2, 'Petal_Length': 5.7, 'Petal_Width': 2.3, 'Class': 'Virginica'}, {'_id': ObjectId('6058671942e2bcabc48079b6'), 'Sepal_Length': 5.6, 'Sepal_Width': 2.8, 'Petal_Length': 4.9, 'Petal_Width': 2.0, 'Class': 'Virginica'}, {'_id': ObjectId('6058671942e2bcabc48079b7'), 'Sepal_Length': 7.7, 'Sepal_Width': 2.8, 'Petal_Length': 6.7, 'Petal_Width': 2.0, 'Class': 'Virginica'}, {'_id': ObjectId('6058671942e2bcabc48079b8'), 'Sepal_Length': 6.3, 'Sepal_Width': 2.7, 'Petal_Length': 4.9, 'Petal_Width': 1.8, 'Class': 'Virginica'}, {'_id': ObjectId('6058671942e2bcabc48079b9'), 'Sepal_Length': 6.7, 'Sepal_Width': 3.3, 'Petal_Length': 5.7, 'Petal_Width': 2.1, 'Class': 'Virginica'}, {'_id': ObjectId('6058671942e2bcabc48079ba'), 'Sepal_Length': 7.2, 'Sepal_Width': 3.2, 'Petal_Length': 6.0, 'Petal_Width': 1.8, 'Class': 'Virginica'}, {'_id': ObjectId('6058671942e2bcabc48079bb'), 'Sepal_Length': 6.2, 'Sepal_Width': 2.8, 'Petal_Length': 4.8, 'Petal_Width': 1.8, 'Class': 'Virginica'}, {'_id': ObjectId('6058671942e2bcabc48079bc'), 'Sepal_Length': 6.1, 'Sepal_Width': 3.0, 'Petal_Length': 4.9, 'Petal_Width': 1.8, 'Class': 'Virginica'}, {'_id': ObjectId('6058671942e2bcabc48079bd'), 'Sepal_Length': 6.4, 'Sepal_Width': 2.8, 'Petal_Length': 5.6, 'Petal_Width': 2.1, 'Class': 'Virginica'}, {'_id': ObjectId('6058671942e2bcabc48079be'), 'Sepal_Length': 7.2, 'Sepal_Width': 3.0, 'Petal_Length': 5.8, 'Petal_Width': 1.6, 'Class': 'Virginica'}, {'_id': ObjectId('6058671942e2bcabc48079bf'), 'Sepal_Length': 7.4, 'Sepal_Width': 2.8, 'Petal_Length': 6.1, 'Petal_Width': 1.9, 'Class': 'Virginica'}, {'_id': ObjectId('6058671942e2bcabc48079c0'), 'Sepal_Length': 7.9, 'Sepal_Width': 3.8, 'Petal_Length': 6.4, 'Petal_Width': 2.0, 'Class': 'Virginica'}, {'_id': ObjectId('6058671942e2bcabc48079c1'), 'Sepal_Length': 6.4, 'Sepal_Width': 2.8, 'Petal_Length': 5.6, 'Petal_Width': 2.2, 'Class': 'Virginica'}, {'_id': ObjectId('6058671942e2bcabc48079c2'), 'Sepal_Length': 6.3, 'Sepal_Width': 2.8, 'Petal_Length': 5.1, 'Petal_Width': 1.5, 'Class': 'Virginica'}, {'_id': ObjectId('6058671942e2bcabc48079c3'), 'Sepal_Length': 6.1, 'Sepal_Width': 2.6, 'Petal_Length': 5.6, 'Petal_Width': 1.4, 'Class': 'Virginica'}, {'_id': ObjectId('6058671942e2bcabc48079c4'), 'Sepal_Length': 7.7, 'Sepal_Width': 3.0, 'Petal_Length': 6.1, 'Petal_Width': 2.3, 'Class': 'Virginica'}, {'_id': ObjectId('6058671942e2bcabc48079c5'), 'Sepal_Length': 6.3, 'Sepal_Width': 3.4, 'Petal_Length': 5.6, 'Petal_Width': 2.4, 'Class': 'Virginica'}, {'_id': ObjectId('6058671942e2bcabc48079c6'), 'Sepal_Length': 6.4, 'Sepal_Width': 3.1, 'Petal_Length': 5.5, 'Petal_Width': 1.8, 'Class': 'Virginica'}, {'_id': ObjectId('6058671942e2bcabc48079c7'), 'Sepal_Length': 6.0, 'Sepal_Width': 3.0, 'Petal_Length': 4.8, 'Petal_Width': 1.8, 'Class': 'Virginica'}, {'_id': ObjectId('6058671942e2bcabc48079c8'), 'Sepal_Length': 6.9, 'Sepal_Width': 3.1, 'Petal_Length': 5.4, 'Petal_Width': 2.1, 'Class': 'Virginica'}, {'_id': ObjectId('6058671942e2bcabc48079c9'), 'Sepal_Length': 6.7, 'Sepal_Width': 3.1, 'Petal_Length': 5.6, 'Petal_Width': 2.4, 'Class': 'Virginica'}, {'_id': ObjectId('6058671942e2bcabc48079ca'), 'Sepal_Length': 6.9, 'Sepal_Width': 3.1, 'Petal_Length': 5.1, 'Petal_Width': 2.3, 'Class': 'Virginica'}, {'_id': ObjectId('6058671942e2bcabc48079cb'), 'Sepal_Length': 5.8, 'Sepal_Width': 2.7, 'Petal_Length': 5.1, 'Petal_Width': 1.9, 'Class': 'Virginica'}, {'_id': ObjectId('6058671942e2bcabc48079cc'), 'Sepal_Length': 6.8, 'Sepal_Width': 3.2, 'Petal_Length': 5.9, 'Petal_Width': 2.3, 'Class': 'Virginica'}, {'_id': ObjectId('6058671942e2bcabc48079cd'), 'Sepal_Length': 6.7, 'Sepal_Width': 3.3, 'Petal_Length': 5.7, 'Petal_Width': 2.5, 'Class': 'Virginica'}, {'_id': ObjectId('6058671942e2bcabc48079ce'), 'Sepal_Length': 6.7, 'Sepal_Width': 3.0, 'Petal_Length': 5.2, 'Petal_Width': 2.3, 'Class': 'Virginica'}, {'_id': ObjectId('6058671942e2bcabc48079cf'), 'Sepal_Length': 6.3, 'Sepal_Width': 2.5, 'Petal_Length': 5.0, 'Petal_Width': 1.9, 'Class': 'Virginica'}, {'_id': ObjectId('6058671942e2bcabc48079d0'), 'Sepal_Length': 6.5, 'Sepal_Width': 3.0, 'Petal_Length': 5.2, 'Petal_Width': 2.0, 'Class': 'Virginica'}, {'_id': ObjectId('6058671942e2bcabc48079d1'), 'Sepal_Length': 6.2, 'Sepal_Width': 3.4, 'Petal_Length': 5.4, 'Petal_Width': 2.3, 'Class': 'Virginica'}, {'_id': ObjectId('6058671942e2bcabc48079d2'), 'Sepal_Length': 5.9, 'Sepal_Width': 3.0, 'Petal_Length': 5.1, 'Petal_Width': 1.8, 'Class': 'Virginica'}]\n"
     ]
    }
   ],
   "source": [
    "print(list_cursor)"
   ]
  },
  {
   "cell_type": "code",
   "execution_count": 15,
   "metadata": {},
   "outputs": [],
   "source": [
    "# Convert cursor list to dataframe\n",
    "df = pd.DataFrame(list_cursor) "
   ]
  },
  {
   "cell_type": "code",
   "execution_count": 16,
   "metadata": {},
   "outputs": [
    {
     "data": {
      "text/html": [
       "<div>\n",
       "<style scoped>\n",
       "    .dataframe tbody tr th:only-of-type {\n",
       "        vertical-align: middle;\n",
       "    }\n",
       "\n",
       "    .dataframe tbody tr th {\n",
       "        vertical-align: top;\n",
       "    }\n",
       "\n",
       "    .dataframe thead th {\n",
       "        text-align: right;\n",
       "    }\n",
       "</style>\n",
       "<table border=\"1\" class=\"dataframe\">\n",
       "  <thead>\n",
       "    <tr style=\"text-align: right;\">\n",
       "      <th></th>\n",
       "      <th>_id</th>\n",
       "      <th>Sepal_Length</th>\n",
       "      <th>Sepal_Width</th>\n",
       "      <th>Petal_Length</th>\n",
       "      <th>Petal_Width</th>\n",
       "      <th>Class</th>\n",
       "    </tr>\n",
       "  </thead>\n",
       "  <tbody>\n",
       "    <tr>\n",
       "      <th>0</th>\n",
       "      <td>6058671942e2bcabc480793d</td>\n",
       "      <td>5.1</td>\n",
       "      <td>3.5</td>\n",
       "      <td>1.4</td>\n",
       "      <td>0.2</td>\n",
       "      <td>Setosa</td>\n",
       "    </tr>\n",
       "    <tr>\n",
       "      <th>1</th>\n",
       "      <td>6058671942e2bcabc480793e</td>\n",
       "      <td>4.9</td>\n",
       "      <td>3.0</td>\n",
       "      <td>1.4</td>\n",
       "      <td>0.2</td>\n",
       "      <td>Setosa</td>\n",
       "    </tr>\n",
       "    <tr>\n",
       "      <th>2</th>\n",
       "      <td>6058671942e2bcabc480793f</td>\n",
       "      <td>4.7</td>\n",
       "      <td>3.2</td>\n",
       "      <td>1.3</td>\n",
       "      <td>0.2</td>\n",
       "      <td>Setosa</td>\n",
       "    </tr>\n",
       "    <tr>\n",
       "      <th>3</th>\n",
       "      <td>6058671942e2bcabc4807940</td>\n",
       "      <td>4.6</td>\n",
       "      <td>3.1</td>\n",
       "      <td>1.5</td>\n",
       "      <td>0.2</td>\n",
       "      <td>Setosa</td>\n",
       "    </tr>\n",
       "    <tr>\n",
       "      <th>4</th>\n",
       "      <td>6058671942e2bcabc4807941</td>\n",
       "      <td>5.0</td>\n",
       "      <td>3.6</td>\n",
       "      <td>1.4</td>\n",
       "      <td>0.2</td>\n",
       "      <td>Setosa</td>\n",
       "    </tr>\n",
       "  </tbody>\n",
       "</table>\n",
       "</div>"
      ],
      "text/plain": [
       "                        _id  Sepal_Length  Sepal_Width  Petal_Length  \\\n",
       "0  6058671942e2bcabc480793d           5.1          3.5           1.4   \n",
       "1  6058671942e2bcabc480793e           4.9          3.0           1.4   \n",
       "2  6058671942e2bcabc480793f           4.7          3.2           1.3   \n",
       "3  6058671942e2bcabc4807940           4.6          3.1           1.5   \n",
       "4  6058671942e2bcabc4807941           5.0          3.6           1.4   \n",
       "\n",
       "   Petal_Width   Class  \n",
       "0          0.2  Setosa  \n",
       "1          0.2  Setosa  \n",
       "2          0.2  Setosa  \n",
       "3          0.2  Setosa  \n",
       "4          0.2  Setosa  "
      ]
     },
     "execution_count": 16,
     "metadata": {},
     "output_type": "execute_result"
    }
   ],
   "source": [
    "df.head()"
   ]
  },
  {
   "cell_type": "code",
   "execution_count": 17,
   "metadata": {},
   "outputs": [
    {
     "data": {
      "text/html": [
       "<div>\n",
       "<style scoped>\n",
       "    .dataframe tbody tr th:only-of-type {\n",
       "        vertical-align: middle;\n",
       "    }\n",
       "\n",
       "    .dataframe tbody tr th {\n",
       "        vertical-align: top;\n",
       "    }\n",
       "\n",
       "    .dataframe thead th {\n",
       "        text-align: right;\n",
       "    }\n",
       "</style>\n",
       "<table border=\"1\" class=\"dataframe\">\n",
       "  <thead>\n",
       "    <tr style=\"text-align: right;\">\n",
       "      <th></th>\n",
       "      <th>_id</th>\n",
       "      <th>Sepal_Length</th>\n",
       "      <th>Sepal_Width</th>\n",
       "      <th>Petal_Length</th>\n",
       "      <th>Petal_Width</th>\n",
       "      <th>Class</th>\n",
       "    </tr>\n",
       "  </thead>\n",
       "  <tbody>\n",
       "    <tr>\n",
       "      <th>145</th>\n",
       "      <td>6058671942e2bcabc48079ce</td>\n",
       "      <td>6.7</td>\n",
       "      <td>3.0</td>\n",
       "      <td>5.2</td>\n",
       "      <td>2.3</td>\n",
       "      <td>Virginica</td>\n",
       "    </tr>\n",
       "    <tr>\n",
       "      <th>146</th>\n",
       "      <td>6058671942e2bcabc48079cf</td>\n",
       "      <td>6.3</td>\n",
       "      <td>2.5</td>\n",
       "      <td>5.0</td>\n",
       "      <td>1.9</td>\n",
       "      <td>Virginica</td>\n",
       "    </tr>\n",
       "    <tr>\n",
       "      <th>147</th>\n",
       "      <td>6058671942e2bcabc48079d0</td>\n",
       "      <td>6.5</td>\n",
       "      <td>3.0</td>\n",
       "      <td>5.2</td>\n",
       "      <td>2.0</td>\n",
       "      <td>Virginica</td>\n",
       "    </tr>\n",
       "    <tr>\n",
       "      <th>148</th>\n",
       "      <td>6058671942e2bcabc48079d1</td>\n",
       "      <td>6.2</td>\n",
       "      <td>3.4</td>\n",
       "      <td>5.4</td>\n",
       "      <td>2.3</td>\n",
       "      <td>Virginica</td>\n",
       "    </tr>\n",
       "    <tr>\n",
       "      <th>149</th>\n",
       "      <td>6058671942e2bcabc48079d2</td>\n",
       "      <td>5.9</td>\n",
       "      <td>3.0</td>\n",
       "      <td>5.1</td>\n",
       "      <td>1.8</td>\n",
       "      <td>Virginica</td>\n",
       "    </tr>\n",
       "  </tbody>\n",
       "</table>\n",
       "</div>"
      ],
      "text/plain": [
       "                          _id  Sepal_Length  Sepal_Width  Petal_Length  \\\n",
       "145  6058671942e2bcabc48079ce           6.7          3.0           5.2   \n",
       "146  6058671942e2bcabc48079cf           6.3          2.5           5.0   \n",
       "147  6058671942e2bcabc48079d0           6.5          3.0           5.2   \n",
       "148  6058671942e2bcabc48079d1           6.2          3.4           5.4   \n",
       "149  6058671942e2bcabc48079d2           5.9          3.0           5.1   \n",
       "\n",
       "     Petal_Width      Class  \n",
       "145          2.3  Virginica  \n",
       "146          1.9  Virginica  \n",
       "147          2.0  Virginica  \n",
       "148          2.3  Virginica  \n",
       "149          1.8  Virginica  "
      ]
     },
     "execution_count": 17,
     "metadata": {},
     "output_type": "execute_result"
    }
   ],
   "source": [
    "df.tail()"
   ]
  }
 ],
 "metadata": {
  "kernelspec": {
   "display_name": "Python 3",
   "language": "python",
   "name": "python3"
  },
  "language_info": {
   "codemirror_mode": {
    "name": "ipython",
    "version": 3
   },
   "file_extension": ".py",
   "mimetype": "text/x-python",
   "name": "python",
   "nbconvert_exporter": "python",
   "pygments_lexer": "ipython3",
   "version": "3.8.3"
  }
 },
 "nbformat": 4,
 "nbformat_minor": 4
}
