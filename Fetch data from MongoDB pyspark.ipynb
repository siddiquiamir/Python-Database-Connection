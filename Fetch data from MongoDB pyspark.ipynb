{
 "cells": [
  {
   "cell_type": "code",
   "execution_count": 1,
   "metadata": {},
   "outputs": [],
   "source": [
    "import pyspark\n",
    "from pyspark import SparkContext\n",
    "from pyspark.sql import SparkSession\n",
    "from pyspark.sql import SQLContext"
   ]
  },
  {
   "cell_type": "code",
   "execution_count": 2,
   "metadata": {},
   "outputs": [
    {
     "name": "stdout",
     "output_type": "stream",
     "text": [
      "3.0.0\n"
     ]
    }
   ],
   "source": [
    "print(pyspark.__version__)"
   ]
  },
  {
   "cell_type": "code",
   "execution_count": 3,
   "metadata": {},
   "outputs": [],
   "source": [
    "conf = pyspark.SparkConf().set(\"spark.jars.packages\",\"org.mongodb.spark:mongo-spark-connector_2.12:3.0.1\").setMaster(\"local\").setAppName(\"My First Spark Job\").setAll([('spark.driver.memory', '40g'),('spark.executor.memory','50g')])\n",
    "sc = SparkContext(conf=conf)\n",
    "sqlC = SQLContext(sc)"
   ]
  },
  {
   "cell_type": "code",
   "execution_count": 4,
   "metadata": {},
   "outputs": [],
   "source": [
    "# MongoDB Details\n",
    "mongo_ip = \"mongodb://localhost:27017/MachineLearning.\""
   ]
  },
  {
   "cell_type": "code",
   "execution_count": 5,
   "metadata": {},
   "outputs": [
    {
     "name": "stdout",
     "output_type": "stream",
     "text": [
      "mongodb://localhost:27017/MachineLearning.\n"
     ]
    }
   ],
   "source": [
    "print(mongo_ip)"
   ]
  },
  {
   "cell_type": "code",
   "execution_count": 6,
   "metadata": {},
   "outputs": [
    {
     "name": "stdout",
     "output_type": "stream",
     "text": [
      "+------+------------+-----------+------------+-----------+--------------------+\n",
      "| Class|Petal_Length|Petal_Width|Sepal_Length|Sepal_Width|                 _id|\n",
      "+------+------------+-----------+------------+-----------+--------------------+\n",
      "|Setosa|         1.4|        0.2|         5.1|        3.5|[606419d0ae19fb7d...|\n",
      "|Setosa|         1.4|        0.2|         4.9|        3.0|[606419d0ae19fb7d...|\n",
      "|Setosa|         1.3|        0.2|         4.7|        3.2|[606419d0ae19fb7d...|\n",
      "|Setosa|         1.5|        0.2|         4.6|        3.1|[606419d0ae19fb7d...|\n",
      "|Setosa|         1.4|        0.2|         5.0|        3.6|[606419d0ae19fb7d...|\n",
      "|Setosa|         1.7|        0.4|         5.4|        3.9|[606419d0ae19fb7d...|\n",
      "|Setosa|         1.4|        0.3|         4.6|        3.4|[606419d0ae19fb7d...|\n",
      "|Setosa|         1.5|        0.2|         5.0|        3.4|[606419d0ae19fb7d...|\n",
      "|Setosa|         1.4|        0.2|         4.4|        2.9|[606419d0ae19fb7d...|\n",
      "|Setosa|         1.5|        0.1|         4.9|        3.1|[606419d0ae19fb7d...|\n",
      "|Setosa|         1.5|        0.2|         5.4|        3.7|[606419d0ae19fb7d...|\n",
      "|Setosa|         1.6|        0.2|         4.8|        3.4|[606419d0ae19fb7d...|\n",
      "|Setosa|         1.4|        0.1|         4.8|        3.0|[606419d0ae19fb7d...|\n",
      "|Setosa|         1.1|        0.1|         4.3|        3.0|[606419d0ae19fb7d...|\n",
      "|Setosa|         1.2|        0.2|         5.8|        4.0|[606419d0ae19fb7d...|\n",
      "|Setosa|         1.5|        0.4|         5.7|        4.4|[606419d0ae19fb7d...|\n",
      "|Setosa|         1.3|        0.4|         5.4|        3.9|[606419d0ae19fb7d...|\n",
      "|Setosa|         1.4|        0.3|         5.1|        3.5|[606419d0ae19fb7d...|\n",
      "|Setosa|         1.7|        0.3|         5.7|        3.8|[606419d0ae19fb7d...|\n",
      "|Setosa|         1.5|        0.3|         5.1|        3.8|[606419d0ae19fb7d...|\n",
      "+------+------------+-----------+------------+-----------+--------------------+\n",
      "only showing top 20 rows\n",
      "\n"
     ]
    }
   ],
   "source": [
    "iris = sqlC.read.format('com.mongodb.spark.sql.DefaultSource').option(\"uri\", mongo_ip + \"Iris\").load()\n",
    "iris.createOrReplaceTempView(\"iris\")\n",
    "iris= sqlC.sql(\"SELECT * FROM iris\")\n",
    "iris.show()"
   ]
  },
  {
   "cell_type": "code",
   "execution_count": null,
   "metadata": {},
   "outputs": [],
   "source": []
  }
 ],
 "metadata": {
  "kernelspec": {
   "display_name": "Python 3",
   "language": "python",
   "name": "python3"
  },
  "language_info": {
   "codemirror_mode": {
    "name": "ipython",
    "version": 3
   },
   "file_extension": ".py",
   "mimetype": "text/x-python",
   "name": "python",
   "nbconvert_exporter": "python",
   "pygments_lexer": "ipython3",
   "version": "3.8.3"
  }
 },
 "nbformat": 4,
 "nbformat_minor": 4
}
